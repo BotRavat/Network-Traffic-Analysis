import networkx as nx
import matplotlib.pyplot as plt
import pandas as pd
import numpy as np

wire_path="C:/Users/7srav/Downloads/wirecapture.csv"
wire_data=pd.read_csv(wire_path)
wire_data.head(15)

sources=wire_data.groupby("Source").Source.count()
sources.sort_values()

destinations =wire_data.groupby("Destination").Source.count()
destinations.sort_values()

protocols=wire_data.groupby("Protocol").Source.count()
protocols.sort_values()

network=nx.from_pandas_edgelist(wire_data,source='Source', target='Destination',edge_attr=None)

network.nodes()

network.edges()

nx.draw_circular(network, with_labels = True) 

suspect=("192.168.29.1")
pos=nx.spring_layout(network)
nx.draw(network,pos,node_color="green",
       node_size=300, with_labels=True)
options ={"node_size":1000,"node_color":"r"}
nx.draw_networkx_nodes(network,pos,nodelist=[suspect],**options)

plt.show()

wire_data.loc[wire_data['Source']=='192.168.29.1']
